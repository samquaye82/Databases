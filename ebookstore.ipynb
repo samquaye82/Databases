{
 "cells": [
  {
   "cell_type": "code",
   "execution_count": 1,
   "metadata": {},
   "outputs": [
    {
     "name": "stdout",
     "output_type": "stream",
     "text": [
      "database created\n"
     ]
    }
   ],
   "source": [
    "import sqlite3\n",
    "\n",
    "# creating the database\n",
    "db = sqlite3.connect('ebookstore_db')\n",
    "cursor = db.cursor()\n",
    "\n",
    "cursor.execute('''\n",
    "                CREATE TABLE IF NOT EXISTS books(id INTEGER, title TEXT, author TEXT, qty INTEGER)\n",
    "                ''')\n",
    "print('database created')\n",
    "db.commit()"
   ]
  },
  {
   "attachments": {},
   "cell_type": "markdown",
   "metadata": {},
   "source": [
    "### Adding the default book entries"
   ]
  },
  {
   "cell_type": "code",
   "execution_count": 2,
   "metadata": {},
   "outputs": [
    {
     "name": "stdout",
     "output_type": "stream",
     "text": [
      "Entry successful\n"
     ]
    }
   ],
   "source": [
    "i_d = 3001\n",
    "title = 'A Tale of Two Cities'\n",
    "author = 'Charles Dickens'\n",
    "qty = 30\n",
    "\n",
    "cursor.execute(''' \n",
    "                INSERT INTO books VALUES(?,?,?,?)\n",
    "\n",
    "                ''', (i_d, title, author, qty))\n",
    "\n",
    "print('Entry successful')\n",
    "db.commit()"
   ]
  },
  {
   "cell_type": "code",
   "execution_count": 3,
   "metadata": {},
   "outputs": [
    {
     "name": "stdout",
     "output_type": "stream",
     "text": [
      "Entry successful\n"
     ]
    }
   ],
   "source": [
    "i_d = 3002\n",
    "title = 'Harry Potter and the Philosophers Stone'\n",
    "author = 'J.K Rowling'\n",
    "qty = 40\n",
    "\n",
    "cursor.execute(''' \n",
    "                INSERT INTO books VALUES(?,?,?,?)\n",
    "\n",
    "                ''', (i_d, title, author, qty))\n",
    "\n",
    "print('Entry successful')\n",
    "db.commit()"
   ]
  },
  {
   "cell_type": "code",
   "execution_count": 4,
   "metadata": {},
   "outputs": [
    {
     "name": "stdout",
     "output_type": "stream",
     "text": [
      "Entry successful\n"
     ]
    }
   ],
   "source": [
    "i_d = 3003\n",
    "title = 'The Lion the Witch and the Wardrobe'\n",
    "author = 'CS Lewis'\n",
    "qty = 25\n",
    "\n",
    "cursor.execute(''' \n",
    "                INSERT INTO books VALUES(?,?,?,?)\n",
    "\n",
    "                ''', (i_d, title, author, qty))\n",
    "\n",
    "print('Entry successful')\n",
    "db.commit()"
   ]
  },
  {
   "cell_type": "code",
   "execution_count": 5,
   "metadata": {},
   "outputs": [
    {
     "name": "stdout",
     "output_type": "stream",
     "text": [
      "Entry successful\n"
     ]
    }
   ],
   "source": [
    "i_d = 3004\n",
    "title = 'The Lord of the rings'\n",
    "author = 'JRR Tolkien'\n",
    "qty = 37\n",
    "\n",
    "cursor.execute(''' \n",
    "                INSERT INTO books VALUES(?,?,?,?)\n",
    "\n",
    "                ''', (i_d, title, author, qty))\n",
    "\n",
    "print('Entry successful')\n",
    "db.commit()"
   ]
  },
  {
   "cell_type": "code",
   "execution_count": 6,
   "metadata": {},
   "outputs": [
    {
     "name": "stdout",
     "output_type": "stream",
     "text": [
      "Entry successful\n"
     ]
    }
   ],
   "source": [
    "i_d = 3005\n",
    "title = 'Alice in Wonderland'\n",
    "author = 'Lewis Carroll'\n",
    "qty = 12\n",
    "\n",
    "cursor.execute(''' \n",
    "                INSERT INTO books VALUES(?,?,?,?)\n",
    "\n",
    "                ''', (i_d, title, author, qty))\n",
    "\n",
    "print('Entry successful')\n",
    "db.commit()"
   ]
  },
  {
   "attachments": {},
   "cell_type": "markdown",
   "metadata": {},
   "source": [
    "### Creating functions for the user functionality"
   ]
  },
  {
   "cell_type": "code",
   "execution_count": 7,
   "metadata": {},
   "outputs": [],
   "source": [
    "# add book\n",
    "def add_book():\n",
    "\n",
    "    i_d = int(input(\"Enter your book id here: \"))\n",
    "    title = input(\"Enter the book title here: \")\n",
    "    author = input(\"Enter the book author here: \")\n",
    "    qty = int(input(\"Enter your book qty here: \"))\n",
    "\n",
    "    cursor.execute(''' \n",
    "                INSERT INTO books VALUES(?,?,?,?)\n",
    "\n",
    "                ''', (i_d, title, author, qty))\n",
    "    \n",
    "    print('New book added successfully')\n",
    "\n",
    "    db.commit()"
   ]
  },
  {
   "cell_type": "code",
   "execution_count": null,
   "metadata": {},
   "outputs": [],
   "source": [
    "# view book\n",
    "\n",
    "def view_book():\n",
    "\n",
    "    id_check = int(input(\"Enter the id of the book here: \"))\n",
    "\n",
    "    cursor.execute('''\n",
    "                    SELECT * FROM books WHERE id=?\n",
    "                    ''', (id_check,))\n",
    "    \n",
    "    book_info = cursor.fetchone()\n",
    "    print(book_info)\n"
   ]
  },
  {
   "cell_type": "code",
   "execution_count": null,
   "metadata": {},
   "outputs": [],
   "source": [
    "# update book\n",
    "\n",
    "def update_book():\n",
    "    # fetch all data\n",
    "\n",
    "    cursor.execute(''' \n",
    "                SELECT * FROM books\n",
    "                ''')\n",
    "\n",
    "    all_data = cursor.fetchall()\n",
    "    print(all_data)\n",
    "\n",
    "    id_choice = int(input(\"Please enter the book id you want to change here: \"))\n",
    "\n",
    "    edit_selection = input(\"What would you like to change? id, title, author or qty\")\n",
    "\n",
    "\n",
    "    if edit_selection == 'title':\n",
    "\n",
    "        new_title = input(\"Enter the new book title here: \")\n",
    "\n",
    "        cursor.execute('''\n",
    "                        UPDATE books SET title=? WHERE id=?\n",
    "                        ''', (new_title, id_choice,))\n",
    "        \n",
    "        print(\"Entry successfully updated!\")\n",
    "        db.commit()\n",
    "    \n",
    "    if edit_selection == 'id':\n",
    "\n",
    "        new_id = input(\"Enter the new book id here: \")\n",
    "\n",
    "        cursor.execute('''\n",
    "                        UPDATE books SET id=? WHERE id=?\n",
    "                        ''', (new_id, id_choice,))\n",
    "        \n",
    "        print(\"Entry successfully updated!\")\n",
    "        db.commit()\n",
    "\n",
    "    if edit_selection == 'author':\n",
    "\n",
    "        new_author = input(\"Enter the new book author here: \")\n",
    "\n",
    "        cursor.execute('''\n",
    "                        UPDATE books SET author=? WHERE id=?\n",
    "                        ''', (new_author, id_choice,))\n",
    "        \n",
    "        print(\"Entry successfully updated!\")\n",
    "        db.commit()\n",
    "    \n",
    "    if edit_selection == 'qty':\n",
    "\n",
    "        new_qty = input(\"Enter the new book qty here: \")\n",
    "\n",
    "        cursor.execute('''\n",
    "                        UPDATE books SET qty=? WHERE id=?\n",
    "                        ''', (new_qty, id_choice,))\n",
    "        \n",
    "        print(\"Entry successfully updated!\")\n",
    "        db.commit()"
   ]
  },
  {
   "cell_type": "code",
   "execution_count": null,
   "metadata": {},
   "outputs": [],
   "source": [
    "# delete book\n",
    "\n",
    "def delete_book():\n",
    "\n",
    "    id_delete = int(input(\"Enter the id of the book here: \"))\n",
    "\n",
    "    cursor.execute('''\n",
    "                    DELETE FROM books WHERE id=?\n",
    "                    ''', (id_delete,))\n",
    "    \n",
    "    print(\"Entry successfully removed\")\n",
    "    db.commit()"
   ]
  },
  {
   "cell_type": "code",
   "execution_count": 7,
   "metadata": {},
   "outputs": [
    {
     "name": "stdout",
     "output_type": "stream",
     "text": [
      "\n",
      "You have made a wrong choice, Please try again\n",
      "\n"
     ]
    },
    {
     "ename": "NameError",
     "evalue": "name 'add_book' is not defined",
     "output_type": "error",
     "traceback": [
      "\u001b[0;31m---------------------------------------------------------------------------\u001b[0m",
      "\u001b[0;31mNameError\u001b[0m                                 Traceback (most recent call last)",
      "\u001b[0;32m/var/folders/80/5bgn7yrs24gb78yz8hckfqcm0000gn/T/ipykernel_71338/2261637620.py\u001b[0m in \u001b[0;36m<module>\u001b[0;34m\u001b[0m\n\u001b[1;32m     12\u001b[0m \u001b[0;34m\u001b[0m\u001b[0m\n\u001b[1;32m     13\u001b[0m     \u001b[0;32mif\u001b[0m \u001b[0mmenu\u001b[0m \u001b[0;34m==\u001b[0m \u001b[0;34m'1'\u001b[0m\u001b[0;34m:\u001b[0m\u001b[0;34m\u001b[0m\u001b[0;34m\u001b[0m\u001b[0m\n\u001b[0;32m---> 14\u001b[0;31m         \u001b[0mprint\u001b[0m\u001b[0;34m(\u001b[0m\u001b[0madd_book\u001b[0m\u001b[0;34m(\u001b[0m\u001b[0;34m)\u001b[0m\u001b[0;34m)\u001b[0m\u001b[0;34m\u001b[0m\u001b[0;34m\u001b[0m\u001b[0m\n\u001b[0m\u001b[1;32m     15\u001b[0m     \u001b[0;32melif\u001b[0m \u001b[0mmenu\u001b[0m \u001b[0;34m==\u001b[0m \u001b[0;34m'2'\u001b[0m\u001b[0;34m:\u001b[0m\u001b[0;34m\u001b[0m\u001b[0;34m\u001b[0m\u001b[0m\n\u001b[1;32m     16\u001b[0m         \u001b[0mprint\u001b[0m\u001b[0;34m(\u001b[0m\u001b[0mupdate_book\u001b[0m\u001b[0;34m(\u001b[0m\u001b[0;34m)\u001b[0m\u001b[0;34m)\u001b[0m\u001b[0;34m\u001b[0m\u001b[0;34m\u001b[0m\u001b[0m\n",
      "\u001b[0;31mNameError\u001b[0m: name 'add_book' is not defined"
     ]
    }
   ],
   "source": [
    "while True:\n",
    "    # presenting the menu to the user and \n",
    "    # making sure that the user input is converted to lower case.\n",
    "    print()\n",
    "    menu = input('''Select one of the following Options below:\n",
    "1. Enter book\n",
    "2. Update book\n",
    "3. Delete book\n",
    "4. Search books\n",
    "0. Exit\n",
    ": ''').lower()\n",
    "\n",
    "    if menu == '1':\n",
    "        print(add_book())\n",
    "    elif menu == '2':\n",
    "        print(update_book())\n",
    "    elif menu == '3':\n",
    "        print(delete_book())\n",
    "    elif menu == '4':\n",
    "        print(view_book())\n",
    "    elif menu == '0':\n",
    "        db.close()\n",
    "        print('Connection to database closed. Goodbye!')\n",
    "    else:\n",
    "        print(\"You have made a wrong choice, Please try again\")"
   ]
  }
 ],
 "metadata": {
  "kernelspec": {
   "display_name": "base",
   "language": "python",
   "name": "python3"
  },
  "language_info": {
   "codemirror_mode": {
    "name": "ipython",
    "version": 3
   },
   "file_extension": ".py",
   "mimetype": "text/x-python",
   "name": "python",
   "nbconvert_exporter": "python",
   "pygments_lexer": "ipython3",
   "version": "3.9.13"
  },
  "orig_nbformat": 4,
  "vscode": {
   "interpreter": {
    "hash": "7f6bb19c23526a5439b703a7784ccbbb6202d6fb6f15e057eb12a92518d26713"
   }
  }
 },
 "nbformat": 4,
 "nbformat_minor": 2
}
